{
 "cells": [
  {
   "cell_type": "code",
   "execution_count": 1,
   "metadata": {},
   "outputs": [],
   "source": [
    "import pandas as pd\n",
    "import re"
   ]
  },
  {
   "cell_type": "code",
   "execution_count": 2,
   "metadata": {},
   "outputs": [
    {
     "data": {
      "text/plain": [
       "98638"
      ]
     },
     "execution_count": 2,
     "metadata": {},
     "output_type": "execute_result"
    }
   ],
   "source": [
    "path_to_csv = \"Peru_2019_AudioMoth_Data_Full.csv\"\n",
    "df_audio = pd.read_csv(path_to_csv, dtype={'AudioMothID': 'str', 'StartDateTime':'str', 'Artist':'str'})\n",
    "df_audio.shape[0]"
   ]
  },
  {
   "cell_type": "code",
   "execution_count": 3,
   "metadata": {},
   "outputs": [
    {
     "data": {
      "text/plain": [
       "93690"
      ]
     },
     "execution_count": 3,
     "metadata": {},
     "output_type": "execute_result"
    }
   ],
   "source": [
    "# filter to clips that are at least 60 seconds long and did not have errors\n",
    "df_audio = df_audio[(df_audio['Duration'] >= 60) & \n",
    "                    (df_audio['Error'].isnull()) &\n",
    "                    (df_audio['FileSize'] >= 46080000)]\n",
    "df_audio.shape[0]"
   ]
  },
  {
   "cell_type": "code",
   "execution_count": 4,
   "metadata": {},
   "outputs": [],
   "source": [
    "# if startdatetime is na get it from comments\n",
    "df_audio['backupTime'] = df_audio['Comment'].apply(lambda x : re.search(r'\\d{2}:\\d{2}:\\d{2} \\d{2}/\\d{2}/\\d{4}', x).group())\n",
    "df_audio['StartDateTime'].fillna(df_audio['backupTime'], inplace=True)"
   ]
  },
  {
   "cell_type": "code",
   "execution_count": 5,
   "metadata": {},
   "outputs": [
    {
     "name": "stdout",
     "output_type": "stream",
     "text": [
      "93682\n",
      "744\n"
     ]
    }
   ],
   "source": [
    "# create a new column called hour, gets hour from the start date\n",
    "df_audio['hour'] = pd.to_datetime(df_audio['StartDateTime']).dt.hour\n",
    "\n",
    "# for each unique audiomoth, remove those that are smaller than 24 hours\n",
    "for audiomoth in df_audio[\"AudioMothCode\"].unique():\n",
    "    time_df = df_audio[df_audio['AudioMothCode']==audiomoth]\n",
    "    if not (time_df['hour'].unique().size == 24):\n",
    "        df_audio = df_audio[df_audio['AudioMothCode'] != audiomoth]\n",
    "print(df_audio.shape[0])\n",
    "\n",
    "# sample one from each hour\n",
    "temp_df = df_audio.groupby(['AudioMothCode', 'hour']).apply(lambda x: x.sample(1))\n",
    "print(temp_df.shape[0])\n",
    "#export to csv\n",
    "temp_df.to_csv('stratified.csv')"
   ]
  },
  {
   "cell_type": "markdown",
   "metadata": {},
   "source": [
    "Program does\n",
    "- take a csv file\n",
    "- checks that a clip from each hour of the day exists, removes those that have less that that\n",
    "- randomly selects a clip from each of the 24 hours for each audiomoth\n",
    "- turns into csv file\n",
    "- use comments to fix the WWF data\n",
    "- make it a function\n",
    "\n",
    "TODO\n",
    "- why did audiomoth 21, 19, 8, 28 have problems? i think only 18 had an issue in the given dataset\n",
    "\n",
    "\n"
   ]
  }
 ],
 "metadata": {
  "interpreter": {
   "hash": "ec96f9c25a878e9da987cd0ba5a549f2d3f41b4b8147b2ca48c1d46d36b278c2"
  },
  "kernelspec": {
   "display_name": "Python 3.7.10 ('species-id')",
   "language": "python",
   "name": "python3"
  },
  "language_info": {
   "codemirror_mode": {
    "name": "ipython",
    "version": 3
   },
   "file_extension": ".py",
   "mimetype": "text/x-python",
   "name": "python",
   "nbconvert_exporter": "python",
   "pygments_lexer": "ipython3",
   "version": "3.7.10"
  },
  "orig_nbformat": 4
 },
 "nbformat": 4,
 "nbformat_minor": 2
}
